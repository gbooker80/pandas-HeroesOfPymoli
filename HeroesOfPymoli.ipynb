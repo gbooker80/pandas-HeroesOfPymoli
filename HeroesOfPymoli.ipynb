{
 "cells": [
  {
   "cell_type": "markdown",
   "metadata": {},
   "source": [
    "# Heroes Of Pymoli Data Analysis\n",
    "* The 16-25 age demographic accounts for nearly two-thirds (65.33%) of all players.\n",
    "* Although accounting for a small subset of total number of players, those who decline to state their gender outspend both the male and female groups.\n",
    "* Our oldest demographic (36+) makes the largest purchases on average.  "
   ]
  },
  {
   "cell_type": "code",
   "execution_count": 158,
   "metadata": {
    "collapsed": true
   },
   "outputs": [],
   "source": [
    "import pandas as pd\n",
    "import numpy as np\n",
    "import json"
   ]
  },
  {
   "cell_type": "code",
   "execution_count": 159,
   "metadata": {
    "collapsed": true
   },
   "outputs": [],
   "source": [
    "purchase_data_1 = \"purchase_data.json\"\n",
    "purchase_data_2 = \"purchase_data2.json\"\n",
    "\n",
    "purchase_data_1_df = pd.read_json(purchase_data_1)\n",
    "purchase_data_2_df = pd.read_json(purchase_data_2)"
   ]
  },
  {
   "cell_type": "code",
   "execution_count": 160,
   "metadata": {},
   "outputs": [],
   "source": [
    "combined_purchases = pd.concat([purchase_data_1_df, purchase_data_2_df])"
   ]
  },
  {
   "cell_type": "markdown",
   "metadata": {},
   "source": [
    "## Player Count"
   ]
  },
  {
   "cell_type": "code",
   "execution_count": 161,
   "metadata": {
    "collapsed": true
   },
   "outputs": [],
   "source": [
    "total_players = combined_purchases.loc[:, [\"Gender\", \"SN\", \"Age\"]]\n",
    "total_players = total_players.drop_duplicates()\n",
    "count = total_players.count()[0]"
   ]
  },
  {
   "cell_type": "code",
   "execution_count": 162,
   "metadata": {},
   "outputs": [
    {
     "data": {
      "text/html": [
       "<div>\n",
       "<style>\n",
       "    .dataframe thead tr:only-child th {\n",
       "        text-align: right;\n",
       "    }\n",
       "\n",
       "    .dataframe thead th {\n",
       "        text-align: left;\n",
       "    }\n",
       "\n",
       "    .dataframe tbody tr th {\n",
       "        vertical-align: top;\n",
       "    }\n",
       "</style>\n",
       "<table border=\"1\" class=\"dataframe\">\n",
       "  <thead>\n",
       "    <tr style=\"text-align: right;\">\n",
       "      <th></th>\n",
       "      <th>Total Players</th>\n",
       "    </tr>\n",
       "  </thead>\n",
       "  <tbody>\n",
       "    <tr>\n",
       "      <th>0</th>\n",
       "      <td>646</td>\n",
       "    </tr>\n",
       "  </tbody>\n",
       "</table>\n",
       "</div>"
      ],
      "text/plain": [
       "   Total Players\n",
       "0            646"
      ]
     },
     "execution_count": 162,
     "metadata": {},
     "output_type": "execute_result"
    }
   ],
   "source": [
    "pd.DataFrame({\"Total Players\": [count]})"
   ]
  },
  {
   "cell_type": "code",
   "execution_count": 163,
   "metadata": {},
   "outputs": [
    {
     "data": {
      "text/html": [
       "<div>\n",
       "<style>\n",
       "    .dataframe thead tr:only-child th {\n",
       "        text-align: right;\n",
       "    }\n",
       "\n",
       "    .dataframe thead th {\n",
       "        text-align: left;\n",
       "    }\n",
       "\n",
       "    .dataframe tbody tr th {\n",
       "        vertical-align: top;\n",
       "    }\n",
       "</style>\n",
       "<table border=\"1\" class=\"dataframe\">\n",
       "  <thead>\n",
       "    <tr style=\"text-align: right;\">\n",
       "      <th></th>\n",
       "      <th>Unique Items</th>\n",
       "      <th>Average Spent</th>\n",
       "      <th>Total Purchases</th>\n",
       "      <th>Total Revenue</th>\n",
       "    </tr>\n",
       "  </thead>\n",
       "  <tbody>\n",
       "    <tr>\n",
       "      <th>0</th>\n",
       "      <td>184</td>\n",
       "      <td>2.930571</td>\n",
       "      <td>858</td>\n",
       "      <td>$2,514.43</td>\n",
       "    </tr>\n",
       "  </tbody>\n",
       "</table>\n",
       "</div>"
      ],
      "text/plain": [
       "   Unique Items  Average Spent  Total Purchases Total Revenue\n",
       "0           184       2.930571              858     $2,514.43"
      ]
     },
     "execution_count": 163,
     "metadata": {},
     "output_type": "execute_result"
    }
   ],
   "source": [
    "average_spent = combined_purchases[\"Price\"].mean()\n",
    "total_revenue = combined_purchases[\"Price\"].sum()\n",
    "total_purchases = combined_purchases[\"Price\"].count()\n",
    "item_count = len(combined_purchases[\"Item ID\"].unique())\n",
    "\n",
    "summary_table = pd.DataFrame({\"Unique Items\": item_count,\n",
    "                              \"Total Revenue\": [total_revenue],\n",
    "                              \"Total Purchases\": [total_purchases],\n",
    "                              \"Average Spent\": [average_price]})\n",
    "\n",
    "summary_table [\"Average Price\"] = summary_table[\"Average Spent\"].map(\"${:,.2f}\".format)\n",
    "summary_table [\"Total Revenue\"] = summary_table[\"Total Revenue\"].map(\"${:,.2f}\".format)\n",
    "summary_table = summary_table.loc[:,[\"Unique Items\", \"Average Spent\", \"Total Purchases\", \"Total Revenue\"]]\n",
    "\n",
    "summary_table"
   ]
  },
  {
   "cell_type": "markdown",
   "metadata": {},
   "source": [
    "## Gender Demographics"
   ]
  },
  {
   "cell_type": "code",
   "execution_count": 164,
   "metadata": {},
   "outputs": [
    {
     "data": {
      "text/html": [
       "<div>\n",
       "<style>\n",
       "    .dataframe thead tr:only-child th {\n",
       "        text-align: right;\n",
       "    }\n",
       "\n",
       "    .dataframe thead th {\n",
       "        text-align: left;\n",
       "    }\n",
       "\n",
       "    .dataframe tbody tr th {\n",
       "        vertical-align: top;\n",
       "    }\n",
       "</style>\n",
       "<table border=\"1\" class=\"dataframe\">\n",
       "  <thead>\n",
       "    <tr style=\"text-align: right;\">\n",
       "      <th></th>\n",
       "      <th>Percentage of Total</th>\n",
       "      <th>Total Count</th>\n",
       "    </tr>\n",
       "  </thead>\n",
       "  <tbody>\n",
       "    <tr>\n",
       "      <th>Male</th>\n",
       "      <td>81.11</td>\n",
       "      <td>524</td>\n",
       "    </tr>\n",
       "    <tr>\n",
       "      <th>Female</th>\n",
       "      <td>17.49</td>\n",
       "      <td>113</td>\n",
       "    </tr>\n",
       "    <tr>\n",
       "      <th>Other / Non-Disclosed</th>\n",
       "      <td>1.39</td>\n",
       "      <td>9</td>\n",
       "    </tr>\n",
       "  </tbody>\n",
       "</table>\n",
       "</div>"
      ],
      "text/plain": [
       "                       Percentage of Total  Total Count\n",
       "Male                                 81.11          524\n",
       "Female                               17.49          113\n",
       "Other / Non-Disclosed                 1.39            9"
      ]
     },
     "execution_count": 164,
     "metadata": {},
     "output_type": "execute_result"
    }
   ],
   "source": [
    "gender_totals = player_demographics[\"Gender\"].value_counts()\n",
    "gender_percentage = (gender_totals / count * 100).round(2)\n",
    "gender_totals = pd.DataFrame({\"Total Count\": gender_totals, \"Percentage of Total\": gender_percentage})\n",
    "\n",
    "gender_totals"
   ]
  },
  {
   "cell_type": "markdown",
   "metadata": {},
   "source": [
    "## Purchases by Gender"
   ]
  },
  {
   "cell_type": "code",
   "execution_count": 165,
   "metadata": {},
   "outputs": [
    {
     "data": {
      "text/html": [
       "<div>\n",
       "<style>\n",
       "    .dataframe thead tr:only-child th {\n",
       "        text-align: right;\n",
       "    }\n",
       "\n",
       "    .dataframe thead th {\n",
       "        text-align: left;\n",
       "    }\n",
       "\n",
       "    .dataframe tbody tr th {\n",
       "        vertical-align: top;\n",
       "    }\n",
       "</style>\n",
       "<table border=\"1\" class=\"dataframe\">\n",
       "  <thead>\n",
       "    <tr style=\"text-align: right;\">\n",
       "      <th></th>\n",
       "      <th>Average Purchase</th>\n",
       "      <th>Total Purchases</th>\n",
       "      <th>Total Spent</th>\n",
       "    </tr>\n",
       "    <tr>\n",
       "      <th>Gender</th>\n",
       "      <th></th>\n",
       "      <th></th>\n",
       "      <th></th>\n",
       "    </tr>\n",
       "  </thead>\n",
       "  <tbody>\n",
       "    <tr>\n",
       "      <th>Female</th>\n",
       "      <td>$2.85</td>\n",
       "      <td>149</td>\n",
       "      <td>$424.29</td>\n",
       "    </tr>\n",
       "    <tr>\n",
       "      <th>Male</th>\n",
       "      <td>$2.94</td>\n",
       "      <td>697</td>\n",
       "      <td>$2,052.28</td>\n",
       "    </tr>\n",
       "    <tr>\n",
       "      <th>Other / Non-Disclosed</th>\n",
       "      <td>$3.15</td>\n",
       "      <td>12</td>\n",
       "      <td>$37.86</td>\n",
       "    </tr>\n",
       "  </tbody>\n",
       "</table>\n",
       "</div>"
      ],
      "text/plain": [
       "                      Average Purchase  Total Purchases Total Spent\n",
       "Gender                                                             \n",
       "Female                           $2.85              149     $424.29\n",
       "Male                             $2.94              697   $2,052.28\n",
       "Other / Non-Disclosed            $3.15               12      $37.86"
      ]
     },
     "execution_count": 165,
     "metadata": {},
     "output_type": "execute_result"
    }
   ],
   "source": [
    "gender_purchase_total = combined_purchases.groupby([\"Gender\"]).sum()[\"Price\"].rename(\"Total Spent\").map(\"${:,.2f}\".format)\n",
    "gender_average = combined_purchases.groupby([\"Gender\"]).mean()[\"Price\"].rename(\"Average Purchase\").map(\"${:,.2f}\".format)\n",
    "gender_counts = combined_purchases.groupby([\"Gender\"]).count()[\"Price\"].rename(\"Total Purchases\")\n",
    "gender_data = pd.DataFrame({\"Total Purchases\": gender_counts, \"Average Purchase\": gender_average, \"Total Spent\": gender_purchase_total})\n",
    "\n",
    "gender_data"
   ]
  },
  {
   "cell_type": "markdown",
   "metadata": {},
   "source": [
    "## Age Demographics"
   ]
  },
  {
   "cell_type": "code",
   "execution_count": 166,
   "metadata": {},
   "outputs": [
    {
     "data": {
      "text/html": [
       "<div>\n",
       "<style>\n",
       "    .dataframe thead tr:only-child th {\n",
       "        text-align: right;\n",
       "    }\n",
       "\n",
       "    .dataframe thead th {\n",
       "        text-align: left;\n",
       "    }\n",
       "\n",
       "    .dataframe tbody tr th {\n",
       "        vertical-align: top;\n",
       "    }\n",
       "</style>\n",
       "<table border=\"1\" class=\"dataframe\">\n",
       "  <thead>\n",
       "    <tr style=\"text-align: right;\">\n",
       "      <th></th>\n",
       "      <th>Group Total</th>\n",
       "      <th>Percentage of Total</th>\n",
       "    </tr>\n",
       "  </thead>\n",
       "  <tbody>\n",
       "    <tr>\n",
       "      <th>&lt;10</th>\n",
       "      <td>24</td>\n",
       "      <td>3.72</td>\n",
       "    </tr>\n",
       "    <tr>\n",
       "      <th>10-15</th>\n",
       "      <td>61</td>\n",
       "      <td>9.44</td>\n",
       "    </tr>\n",
       "    <tr>\n",
       "      <th>16-25</th>\n",
       "      <td>422</td>\n",
       "      <td>65.33</td>\n",
       "    </tr>\n",
       "    <tr>\n",
       "      <th>26-35</th>\n",
       "      <td>106</td>\n",
       "      <td>16.41</td>\n",
       "    </tr>\n",
       "    <tr>\n",
       "      <th>36+</th>\n",
       "      <td>33</td>\n",
       "      <td>5.11</td>\n",
       "    </tr>\n",
       "  </tbody>\n",
       "</table>\n",
       "</div>"
      ],
      "text/plain": [
       "       Group Total  Percentage of Total\n",
       "<10             24                 3.72\n",
       "10-15           61                 9.44\n",
       "16-25          422                65.33\n",
       "26-35          106                16.41\n",
       "36+             33                 5.11"
      ]
     },
     "execution_count": 166,
     "metadata": {},
     "output_type": "execute_result"
    }
   ],
   "source": [
    "age_bins = [0, 9.90, 15.90, 25.90, 35.90, 999]\n",
    "age_groups = [\"<10\", \"10-15\", \"16-25\", \"26-35\", \"36+\"]\n",
    "\n",
    "player_demographics[\"Age Ranges\"] = pd.cut(player_demographics[\"Age\"], age_bins, labels=group_names)\n",
    "\n",
    "age_demographics_totals = player_demographics[\"Age Ranges\"].value_counts()\n",
    "age_demographics_percents = (age_demographics_totals / count * 100).round(2)\n",
    "age_demographics = pd.DataFrame({\"Percentage of Total\": age_demographics_percents, \"Group Total\": age_demographics_totals})\n",
    "\n",
    "age_demographics.sort_index()"
   ]
  },
  {
   "cell_type": "markdown",
   "metadata": {},
   "source": [
    "## Purchases by Age"
   ]
  },
  {
   "cell_type": "code",
   "execution_count": 167,
   "metadata": {},
   "outputs": [
    {
     "data": {
      "text/html": [
       "<div>\n",
       "<style>\n",
       "    .dataframe thead tr:only-child th {\n",
       "        text-align: right;\n",
       "    }\n",
       "\n",
       "    .dataframe thead th {\n",
       "        text-align: left;\n",
       "    }\n",
       "\n",
       "    .dataframe tbody tr th {\n",
       "        vertical-align: top;\n",
       "    }\n",
       "</style>\n",
       "<table border=\"1\" class=\"dataframe\">\n",
       "  <thead>\n",
       "    <tr style=\"text-align: right;\">\n",
       "      <th></th>\n",
       "      <th>Total Purchases</th>\n",
       "      <th>Average Spent</th>\n",
       "      <th>Total Spent</th>\n",
       "    </tr>\n",
       "    <tr>\n",
       "      <th>Age Ranges</th>\n",
       "      <th></th>\n",
       "      <th></th>\n",
       "      <th></th>\n",
       "    </tr>\n",
       "  </thead>\n",
       "  <tbody>\n",
       "    <tr>\n",
       "      <th>&lt;10</th>\n",
       "      <td>33</td>\n",
       "      <td>$2.95</td>\n",
       "      <td>$97.28</td>\n",
       "    </tr>\n",
       "    <tr>\n",
       "      <th>10-15</th>\n",
       "      <td>86</td>\n",
       "      <td>$2.90</td>\n",
       "      <td>$249.52</td>\n",
       "    </tr>\n",
       "    <tr>\n",
       "      <th>16-25</th>\n",
       "      <td>542</td>\n",
       "      <td>$2.93</td>\n",
       "      <td>$1,586.46</td>\n",
       "    </tr>\n",
       "    <tr>\n",
       "      <th>26-35</th>\n",
       "      <td>145</td>\n",
       "      <td>$2.93</td>\n",
       "      <td>$425.32</td>\n",
       "    </tr>\n",
       "    <tr>\n",
       "      <th>36+</th>\n",
       "      <td>52</td>\n",
       "      <td>$3.00</td>\n",
       "      <td>$155.85</td>\n",
       "    </tr>\n",
       "  </tbody>\n",
       "</table>\n",
       "</div>"
      ],
      "text/plain": [
       "            Total Purchases Average Spent Total Spent\n",
       "Age Ranges                                           \n",
       "<10                      33         $2.95      $97.28\n",
       "10-15                    86         $2.90     $249.52\n",
       "16-25                   542         $2.93   $1,586.46\n",
       "26-35                   145         $2.93     $425.32\n",
       "36+                      52         $3.00     $155.85"
      ]
     },
     "execution_count": 167,
     "metadata": {},
     "output_type": "execute_result"
    }
   ],
   "source": [
    "combined_purchases[\"Age Ranges\"] = pd.cut(combined_purchases[\"Age\"], age_bins, labels=group_names)\n",
    "\n",
    "age_purchase_total = combined_purchases.groupby([\"Age Ranges\"]).sum()[\"Price\"].rename(\"Total Spent\").map(\"${:,.2f}\".format)\n",
    "age_average = combined_purchases.groupby([\"Age Ranges\"]).mean()[\"Price\"].rename(\"Average Spent\").map(\"${:,.2f}\".format)\n",
    "age_counts = combined_purchases.groupby([\"Age Ranges\"]).count()[\"Price\"].rename(\"Total Purchases\")\n",
    "age_data = pd.DataFrame({\"Total Purchases\": age_counts, \"Average Spent\": age_average, \"Total Spent\": age_purchase_total})\n",
    "age_data = age_data.loc[:, [\"Total Purchases\", \"Average Spent\", \"Total Spent\"]]\n",
    "\n",
    "age_data"
   ]
  },
  {
   "cell_type": "markdown",
   "metadata": {},
   "source": [
    "## Biggest Spenders"
   ]
  },
  {
   "cell_type": "code",
   "execution_count": 168,
   "metadata": {},
   "outputs": [
    {
     "data": {
      "text/html": [
       "<div>\n",
       "<style>\n",
       "    .dataframe thead tr:only-child th {\n",
       "        text-align: right;\n",
       "    }\n",
       "\n",
       "    .dataframe thead th {\n",
       "        text-align: left;\n",
       "    }\n",
       "\n",
       "    .dataframe tbody tr th {\n",
       "        vertical-align: top;\n",
       "    }\n",
       "</style>\n",
       "<table border=\"1\" class=\"dataframe\">\n",
       "  <thead>\n",
       "    <tr style=\"text-align: right;\">\n",
       "      <th></th>\n",
       "      <th>Total Purchases</th>\n",
       "      <th>Average Spent</th>\n",
       "      <th>Total Spent</th>\n",
       "    </tr>\n",
       "    <tr>\n",
       "      <th>SN</th>\n",
       "      <th></th>\n",
       "      <th></th>\n",
       "      <th></th>\n",
       "    </tr>\n",
       "  </thead>\n",
       "  <tbody>\n",
       "    <tr>\n",
       "      <th>Qarwen67</th>\n",
       "      <td>4</td>\n",
       "      <td>$2.49</td>\n",
       "      <td>$9.97</td>\n",
       "    </tr>\n",
       "    <tr>\n",
       "      <th>Ila44</th>\n",
       "      <td>4</td>\n",
       "      <td>$2.42</td>\n",
       "      <td>$9.68</td>\n",
       "    </tr>\n",
       "    <tr>\n",
       "      <th>Airi27</th>\n",
       "      <td>3</td>\n",
       "      <td>$3.16</td>\n",
       "      <td>$9.48</td>\n",
       "    </tr>\n",
       "    <tr>\n",
       "      <th>Lisistaya47</th>\n",
       "      <td>3</td>\n",
       "      <td>$3.06</td>\n",
       "      <td>$9.19</td>\n",
       "    </tr>\n",
       "    <tr>\n",
       "      <th>Tillyrin30</th>\n",
       "      <td>3</td>\n",
       "      <td>$3.06</td>\n",
       "      <td>$9.19</td>\n",
       "    </tr>\n",
       "  </tbody>\n",
       "</table>\n",
       "</div>"
      ],
      "text/plain": [
       "             Total Purchases Average Spent Total Spent\n",
       "SN                                                    \n",
       "Qarwen67                   4         $2.49       $9.97\n",
       "Ila44                      4         $2.42       $9.68\n",
       "Airi27                     3         $3.16       $9.48\n",
       "Lisistaya47                3         $3.06       $9.19\n",
       "Tillyrin30                 3         $3.06       $9.19"
      ]
     },
     "execution_count": 168,
     "metadata": {},
     "output_type": "execute_result"
    }
   ],
   "source": [
    "user_spend = combined_purchases.groupby([\"SN\"]).sum()[\"Price\"].rename(\"Total Spent\").map(\"${:,.2f}\".format)\n",
    "user_average = combined_purchases.groupby([\"SN\"]).mean()[\"Price\"].rename(\"Average Spent\").map(\"${:,.2f}\".format)\n",
    "user_purchases = combined_purchases.groupby([\"SN\"]).count()[\"Price\"].rename(\"Total Purchases\")\n",
    "\n",
    "user_data = pd.DataFrame({\"Total Spent\": user_total, \"Average Spent\": user_average, \"Total Purchases\": user_count})\n",
    "user_data = user_data.loc[:,[\"Total Purchases\", \"Average Spent\", \"Total Spent\"]]\n",
    "\n",
    "user_data.sort_values(\"Total Spent\", ascending=False).head(5)"
   ]
  },
  {
   "cell_type": "markdown",
   "metadata": {},
   "source": [
    "## Most Popular Items"
   ]
  },
  {
   "cell_type": "code",
   "execution_count": 169,
   "metadata": {},
   "outputs": [
    {
     "data": {
      "text/html": [
       "<div>\n",
       "<style>\n",
       "    .dataframe thead tr:only-child th {\n",
       "        text-align: right;\n",
       "    }\n",
       "\n",
       "    .dataframe thead th {\n",
       "        text-align: left;\n",
       "    }\n",
       "\n",
       "    .dataframe tbody tr th {\n",
       "        vertical-align: top;\n",
       "    }\n",
       "</style>\n",
       "<table border=\"1\" class=\"dataframe\">\n",
       "  <thead>\n",
       "    <tr style=\"text-align: right;\">\n",
       "      <th></th>\n",
       "      <th></th>\n",
       "      <th>Number of Purchases</th>\n",
       "      <th>Item Price</th>\n",
       "      <th>Total Spent</th>\n",
       "    </tr>\n",
       "    <tr>\n",
       "      <th>Item ID</th>\n",
       "      <th>Item Name</th>\n",
       "      <th></th>\n",
       "      <th></th>\n",
       "      <th></th>\n",
       "    </tr>\n",
       "  </thead>\n",
       "  <tbody>\n",
       "    <tr>\n",
       "      <th>107</th>\n",
       "      <th>Splitter, Foe Of Subtlety</th>\n",
       "      <td>9</td>\n",
       "      <td>$3.67</td>\n",
       "      <td>$33.03</td>\n",
       "    </tr>\n",
       "    <tr>\n",
       "      <th>108</th>\n",
       "      <th>Extraction, Quickblade Of Trembling Hands</th>\n",
       "      <td>9</td>\n",
       "      <td>$3.14</td>\n",
       "      <td>$28.25</td>\n",
       "    </tr>\n",
       "    <tr>\n",
       "      <th>175</th>\n",
       "      <th>Woeful Adamantite Claymore</th>\n",
       "      <td>9</td>\n",
       "      <td>$1.24</td>\n",
       "      <td>$11.16</td>\n",
       "    </tr>\n",
       "    <tr>\n",
       "      <th>44</th>\n",
       "      <th>Bonecarvin Battle Axe</th>\n",
       "      <td>9</td>\n",
       "      <td>$2.67</td>\n",
       "      <td>$24.04</td>\n",
       "    </tr>\n",
       "    <tr>\n",
       "      <th>34</th>\n",
       "      <th>Retribution Axe</th>\n",
       "      <td>9</td>\n",
       "      <td>$4.14</td>\n",
       "      <td>$37.26</td>\n",
       "    </tr>\n",
       "  </tbody>\n",
       "</table>\n",
       "</div>"
      ],
      "text/plain": [
       "                                                  Number of Purchases  \\\n",
       "Item ID Item Name                                                       \n",
       "107     Splitter, Foe Of Subtlety                                   9   \n",
       "108     Extraction, Quickblade Of Trembling Hands                   9   \n",
       "175     Woeful Adamantite Claymore                                  9   \n",
       "44      Bonecarvin Battle Axe                                       9   \n",
       "34      Retribution Axe                                             9   \n",
       "\n",
       "                                                  Item Price Total Spent  \n",
       "Item ID Item Name                                                         \n",
       "107     Splitter, Foe Of Subtlety                      $3.67      $33.03  \n",
       "108     Extraction, Quickblade Of Trembling Hands      $3.14      $28.25  \n",
       "175     Woeful Adamantite Claymore                     $1.24      $11.16  \n",
       "44      Bonecarvin Battle Axe                          $2.67      $24.04  \n",
       "34      Retribution Axe                                $4.14      $37.26  "
      ]
     },
     "execution_count": 169,
     "metadata": {},
     "output_type": "execute_result"
    }
   ],
   "source": [
    "item_popular = combined_purchases.loc[:,[\"Item ID\", \"Item Name\", \"Price\"]]\n",
    "\n",
    "item_revenue = item_popular.groupby([\"Item ID\", \"Item Name\"]).sum()[\"Price\"].rename(\"Total Spent\")\n",
    "item_average = item_popular.groupby([\"Item ID\", \"Item Name\"]).mean()[\"Price\"]\n",
    "item_total = item_popular.groupby([\"Item ID\", \"Item Name\"]).count()[\"Price\"].rename(\"Number of Purchases\")\n",
    "item_popular_pd = item_popular_pd.loc[:,[\"Number of Purchases\", \"Item Price\", \"Total Spent\"]]\n",
    "\n",
    "item_popular_pd.sort_values(\"Number of Purchases\", ascending=False).head(5)"
   ]
  },
  {
   "cell_type": "markdown",
   "metadata": {},
   "source": [
    "## Most Profitable Items"
   ]
  },
  {
   "cell_type": "code",
   "execution_count": 170,
   "metadata": {},
   "outputs": [
    {
     "data": {
      "text/html": [
       "<div>\n",
       "<style>\n",
       "    .dataframe thead tr:only-child th {\n",
       "        text-align: right;\n",
       "    }\n",
       "\n",
       "    .dataframe thead th {\n",
       "        text-align: left;\n",
       "    }\n",
       "\n",
       "    .dataframe tbody tr th {\n",
       "        vertical-align: top;\n",
       "    }\n",
       "</style>\n",
       "<table border=\"1\" class=\"dataframe\">\n",
       "  <thead>\n",
       "    <tr style=\"text-align: right;\">\n",
       "      <th></th>\n",
       "      <th></th>\n",
       "      <th>Number of Purchases</th>\n",
       "      <th>Item Price</th>\n",
       "      <th>Total Spent</th>\n",
       "    </tr>\n",
       "    <tr>\n",
       "      <th>Item ID</th>\n",
       "      <th>Item Name</th>\n",
       "      <th></th>\n",
       "      <th></th>\n",
       "      <th></th>\n",
       "    </tr>\n",
       "  </thead>\n",
       "  <tbody>\n",
       "    <tr>\n",
       "      <th>21</th>\n",
       "      <th>Souleater</th>\n",
       "      <td>3</td>\n",
       "      <td>$3.27</td>\n",
       "      <td>$9.81</td>\n",
       "    </tr>\n",
       "    <tr>\n",
       "      <th>37</th>\n",
       "      <th>Shadow Strike, Glory of Ending Hope</th>\n",
       "      <td>5</td>\n",
       "      <td>$1.93</td>\n",
       "      <td>$9.65</td>\n",
       "    </tr>\n",
       "    <tr>\n",
       "      <th>120</th>\n",
       "      <th>Agatha</th>\n",
       "      <td>5</td>\n",
       "      <td>$1.91</td>\n",
       "      <td>$9.55</td>\n",
       "    </tr>\n",
       "    <tr>\n",
       "      <th>96</th>\n",
       "      <th>Blood-Forged Skeletal Spine</th>\n",
       "      <td>2</td>\n",
       "      <td>$4.77</td>\n",
       "      <td>$9.54</td>\n",
       "    </tr>\n",
       "    <tr>\n",
       "      <th>47</th>\n",
       "      <th>Alpha, Reach of Ending Hope</th>\n",
       "      <td>6</td>\n",
       "      <td>$1.55</td>\n",
       "      <td>$9.30</td>\n",
       "    </tr>\n",
       "  </tbody>\n",
       "</table>\n",
       "</div>"
      ],
      "text/plain": [
       "                                            Number of Purchases Item Price  \\\n",
       "Item ID Item Name                                                            \n",
       "21      Souleater                                             3      $3.27   \n",
       "37      Shadow Strike, Glory of Ending Hope                   5      $1.93   \n",
       "120     Agatha                                                5      $1.91   \n",
       "96      Blood-Forged Skeletal Spine                           2      $4.77   \n",
       "47      Alpha, Reach of Ending Hope                           6      $1.55   \n",
       "\n",
       "                                            Total Spent  \n",
       "Item ID Item Name                                        \n",
       "21      Souleater                                 $9.81  \n",
       "37      Shadow Strike, Glory of Ending Hope       $9.65  \n",
       "120     Agatha                                    $9.55  \n",
       "96      Blood-Forged Skeletal Spine               $9.54  \n",
       "47      Alpha, Reach of Ending Hope               $9.30  "
      ]
     },
     "execution_count": 170,
     "metadata": {},
     "output_type": "execute_result"
    }
   ],
   "source": [
    "item_popular_pd.sort_values(\"Total Spent\", ascending=False).head(5)"
   ]
  },
  {
   "cell_type": "code",
   "execution_count": null,
   "metadata": {
    "collapsed": true
   },
   "outputs": [],
   "source": []
  }
 ],
 "metadata": {
  "kernelspec": {
   "display_name": "Python 3",
   "language": "python",
   "name": "python3"
  },
  "language_info": {
   "codemirror_mode": {
    "name": "ipython",
    "version": 3
   },
   "file_extension": ".py",
   "mimetype": "text/x-python",
   "name": "python",
   "nbconvert_exporter": "python",
   "pygments_lexer": "ipython3",
   "version": "3.6.2"
  }
 },
 "nbformat": 4,
 "nbformat_minor": 2
}
